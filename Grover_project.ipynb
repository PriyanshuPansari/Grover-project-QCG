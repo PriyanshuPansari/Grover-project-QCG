{
 "cells": [
  {
   "cell_type": "code",
   "execution_count": 80,
   "metadata": {},
   "outputs": [],
   "source": [
    "from qiskit import Aer\n",
    "from qiskit.visualization import plot_histogram\n",
    "from qiskit.utils import QuantumInstance\n",
    "from qiskit.algorithms import Grover, AmplificationProblem\n",
    "from qiskit.circuit.library import PhaseOracle\n",
    "from qiskit import QuantumCircuit, QuantumRegister\n",
    "from qiskit.quantum_info.operators import Operator\n",
    "from qiskit import QuantumCircuit, transpile\n",
    "from qiskit.providers.basicaer import QasmSimulatorPy\n",
    "from qiskit import QuantumCircuit, transpile\n",
    "from qiskit.providers.aer import QasmSimulator\n",
    "from qiskit.visualization import plot_histogram\n",
    "\n",
    "#\n",
    "from qiskit import *\n",
    "import matplotlib.pyplot as plt\n",
    "import numpy as np"
   ]
  },
  {
   "cell_type": "code",
   "execution_count": 81,
   "metadata": {},
   "outputs": [
    {
     "data": {
      "text/html": [
       "<pre style=\"word-wrap: normal;white-space: pre;background: #fff0;line-height: 1.1;font-family: &quot;Courier New&quot;,Courier,monospace\">     ┌─────┐\n",
       "q_0: ┤0    ├\n",
       "     │     │\n",
       "q_1: ┤1 cx ├\n",
       "     │     │\n",
       "q_2: ┤2    ├\n",
       "     └─────┘</pre>"
      ],
      "text/plain": [
       "     ┌─────┐\n",
       "q_0: ┤0    ├\n",
       "     │     │\n",
       "q_1: ┤1 cx ├\n",
       "     │     │\n",
       "q_2: ┤2    ├\n",
       "     └─────┘"
      ]
     },
     "execution_count": 81,
     "metadata": {},
     "output_type": "execute_result"
    }
   ],
   "source": [
    "oracle = QuantumCircuit(3,name='oracle')\n",
    "\n",
    "cx = Operator([\n",
    "    [-1, 0, 0, 0, 0 ,0 ,0 ,0],\n",
    "    [0, -1, 0, 0, 0 ,0 ,0 ,0],\n",
    "    [0, 0, -1, 0, 0 ,0 ,0 ,0],\n",
    "    [0, 0, 0, -1, 0 ,0 ,0 ,0],\n",
    "    [0, 0, 0, 0, 1 ,0 ,0 ,0],\n",
    "    [0, 0, 0, 0, 0 ,1 ,0 ,0],\n",
    "    [0, 0, 0, 0, 0 ,0 ,-1 ,0],\n",
    "    [0, 0, 0, 0, 0 ,0 ,0 ,1]\n",
    "])\n",
    "oracle.unitary(cx, [0, 1,2], label='cx')\n",
    "oracle.draw()"
   ]
  },
  {
   "cell_type": "code",
   "execution_count": 82,
   "metadata": {},
   "outputs": [
    {
     "data": {
      "text/html": [
       "<pre style=\"word-wrap: normal;white-space: pre;background: #fff0;line-height: 1.1;font-family: &quot;Courier New&quot;,Courier,monospace\">     ┌───┐┌─────────┐\n",
       "q_0: ┤ H ├┤0        ├\n",
       "     ├───┤│         │\n",
       "q_1: ┤ H ├┤1 oracle ├\n",
       "     ├───┤│         │\n",
       "q_2: ┤ H ├┤2        ├\n",
       "     └───┘└─────────┘\n",
       "c: 3/════════════════\n",
       "                     </pre>"
      ],
      "text/plain": [
       "     ┌───┐┌─────────┐\n",
       "q_0: ┤ H ├┤0        ├\n",
       "     ├───┤│         │\n",
       "q_1: ┤ H ├┤1 oracle ├\n",
       "     ├───┤│         │\n",
       "q_2: ┤ H ├┤2        ├\n",
       "     └───┘└─────────┘\n",
       "c: 3/════════════════\n",
       "                     "
      ]
     },
     "execution_count": 82,
     "metadata": {},
     "output_type": "execute_result"
    }
   ],
   "source": [
    "# Configure backend\n",
    "backend = Aer.get_backend('statevector_simulator')\n",
    "grover_circ= QuantumCircuit(3,3)\n",
    "grover_circ.h([0,1,2])\n",
    "grover_circ.append(oracle,[0,1,2])\n",
    "grover_circ.draw()"
   ]
  },
  {
   "cell_type": "code",
   "execution_count": 83,
   "metadata": {},
   "outputs": [],
   "source": [
    "job=execute(grover_circ,backend)\n",
    "result = job.result()"
   ]
  },
  {
   "cell_type": "code",
   "execution_count": 85,
   "metadata": {},
   "outputs": [
    {
     "data": {
      "text/plain": [
       "array([-0.354+0.j, -0.354+0.j, -0.354+0.j, -0.354+0.j,  0.354+0.j,\n",
       "        0.354+0.j, -0.354+0.j,  0.354+0.j])"
      ]
     },
     "execution_count": 85,
     "metadata": {},
     "output_type": "execute_result"
    }
   ],
   "source": [
    "sv = result.get_statevector()\n",
    "np.around(sv,3)"
   ]
  },
  {
   "cell_type": "code",
   "execution_count": 87,
   "metadata": {},
   "outputs": [
    {
     "data": {
      "text/html": [
       "<pre style=\"word-wrap: normal;white-space: pre;background: #fff0;line-height: 1.1;font-family: &quot;Courier New&quot;,Courier,monospace\">     ┌───┐┌───┐          ┌───┐┌───┐     \n",
       "q_0: ┤ H ├┤ X ├───────■──┤ X ├┤ H ├─────\n",
       "     ├───┤├───┤       │  ├───┤├───┤     \n",
       "q_1: ┤ H ├┤ X ├───────■──┤ X ├┤ H ├─────\n",
       "     ├───┤├───┤┌───┐┌─┴─┐├───┤├───┤┌───┐\n",
       "q_2: ┤ H ├┤ X ├┤ H ├┤ X ├┤ H ├┤ X ├┤ H ├\n",
       "     └───┘└───┘└───┘└───┘└───┘└───┘└───┘</pre>"
      ],
      "text/plain": [
       "     ┌───┐┌───┐          ┌───┐┌───┐     \n",
       "q_0: ┤ H ├┤ X ├───────■──┤ X ├┤ H ├─────\n",
       "     ├───┤├───┤       │  ├───┤├───┤     \n",
       "q_1: ┤ H ├┤ X ├───────■──┤ X ├┤ H ├─────\n",
       "     ├───┤├───┤┌───┐┌─┴─┐├───┤├───┤┌───┐\n",
       "q_2: ┤ H ├┤ X ├┤ H ├┤ X ├┤ H ├┤ X ├┤ H ├\n",
       "     └───┘└───┘└───┘└───┘└───┘└───┘└───┘"
      ]
     },
     "execution_count": 87,
     "metadata": {},
     "output_type": "execute_result"
    }
   ],
   "source": [
    "reflection = QuantumCircuit(3,name='reflection')\n",
    "reflection.h([0,1,2])\n",
    "reflection.x([0,1,2])\n",
    "reflection.h([2])\n",
    "reflection.mct(list(range(2)), 2) \n",
    "reflection.h(2)\n",
    "reflection.x([0,1,2]) \n",
    "reflection.h([0,1,2]) \n",
    "reflection.draw()"
   ]
  },
  {
   "cell_type": "code",
   "execution_count": 97,
   "metadata": {},
   "outputs": [
    {
     "data": {
      "text/html": [
       "<pre style=\"word-wrap: normal;white-space: pre;background: #fff0;line-height: 1.1;font-family: &quot;Courier New&quot;,Courier,monospace\">        ┌───┐┌─────────┐┌─────────────┐┌─────────┐┌─────────────┐ ░ ┌─┐      \n",
       "   q_0: ┤ H ├┤0        ├┤0            ├┤0        ├┤0            ├─░─┤M├──────\n",
       "        ├───┤│         ││             ││         ││             │ ░ └╥┘┌─┐   \n",
       "   q_1: ┤ H ├┤1 oracle ├┤1 reflection ├┤1 oracle ├┤1 reflection ├─░──╫─┤M├───\n",
       "        ├───┤│         ││             ││         ││             │ ░  ║ └╥┘┌─┐\n",
       "   q_2: ┤ H ├┤2        ├┤2            ├┤2        ├┤2            ├─░──╫──╫─┤M├\n",
       "        └───┘└─────────┘└─────────────┘└─────────┘└─────────────┘ ░  ║  ║ └╥┘\n",
       "meas: 3/═════════════════════════════════════════════════════════════╩══╩══╩═\n",
       "                                                                     0  1  2 </pre>"
      ],
      "text/plain": [
       "        ┌───┐┌─────────┐┌─────────────┐┌─────────┐┌─────────────┐ ░ ┌─┐      \n",
       "   q_0: ┤ H ├┤0        ├┤0            ├┤0        ├┤0            ├─░─┤M├──────\n",
       "        ├───┤│         ││             ││         ││             │ ░ └╥┘┌─┐   \n",
       "   q_1: ┤ H ├┤1 oracle ├┤1 reflection ├┤1 oracle ├┤1 reflection ├─░──╫─┤M├───\n",
       "        ├───┤│         ││             ││         ││             │ ░  ║ └╥┘┌─┐\n",
       "   q_2: ┤ H ├┤2        ├┤2            ├┤2        ├┤2            ├─░──╫──╫─┤M├\n",
       "        └───┘└─────────┘└─────────────┘└─────────┘└─────────────┘ ░  ║  ║ └╥┘\n",
       "meas: 3/═════════════════════════════════════════════════════════════╩══╩══╩═\n",
       "                                                                     0  1  2 "
      ]
     },
     "execution_count": 97,
     "metadata": {},
     "output_type": "execute_result"
    }
   ],
   "source": [
    "grover_circuit = QuantumCircuit(3)\n",
    "grover_circuit.h([0,1,2])\n",
    "for i in range(2):\n",
    "    grover_circuit.append(oracle, [0,1,2])\n",
    "    grover_circuit.append(reflection, [0,1,2])\n",
    "grover_circuit.measure_all()\n",
    "grover_circuit.draw()"
   ]
  },
  {
   "cell_type": "code",
   "execution_count": 100,
   "metadata": {},
   "outputs": [
    {
     "data": {
      "image/png": "[encoded data removed]",
      "text/plain": [
       "<Figure size 504x360 with 1 Axes>"
      ]
     },
     "execution_count": 100,
     "metadata": {},
     "output_type": "execute_result"
    }
   ],
   "source": [
    "aer_sim = Aer.get_backend('aer_simulator')\n",
    "transpiled_grover_circuit = transpile(grover_circuit, aer_sim)\n",
    "qobj = assemble(transpiled_grover_circuit)\n",
    "results = aer_sim.run(qobj).result()\n",
    "counts = results.get_counts()\n",
    "plot_histogram(counts)"
   ]
  },
  {
   "cell_type": "code",
   "execution_count": null,
   "metadata": {},
   "outputs": [],
   "source": []
  }
 ],
 "metadata": {
  "kernelspec": {
   "display_name": "Python 3",
   "language": "python",
   "name": "python3"
  },
  "language_info": {
   "codemirror_mode": {
    "name": "ipython",
    "version": 3
   },
   "file_extension": ".py",
   "mimetype": "text/x-python",
   "name": "python",
   "nbconvert_exporter": "python",
   "pygments_lexer": "ipython3",
   "version": "3.7.2"
  }
 },
 "nbformat": 4,
 "nbformat_minor": 2
}
